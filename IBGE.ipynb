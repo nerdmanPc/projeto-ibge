{
 "cells": [
  {
   "cell_type": "markdown",
   "id": "9ac3c04d",
   "metadata": {},
   "source": [
    "## IBGE Data Analysis Project\n",
    "\n",
    "IBGE is the main source for all kinds os statistical data in Brazil. This repository is an exploration of interesting socioeconomic data as well as concepts like Data visualization, REST API abstraction and Test driven development applied to Data Science."
   ]
  },
  {
   "cell_type": "code",
   "execution_count": 153,
   "id": "d29797c2-3f31-482d-8568-d142844dabe8",
   "metadata": {},
   "outputs": [],
   "source": [
    "import urllib3\n",
    "#import json\n",
    "import matplotlib.pyplot as plot\n",
    "import numpy\n",
    "import pandas\n",
    "from ibge_lib import *\n"
   ]
  },
  {
   "cell_type": "code",
   "execution_count": 154,
   "id": "ad61d0dd",
   "metadata": {},
   "outputs": [],
   "source": [
    "http = urllib3.PoolManager()\n",
    "http_fn = lambda url: http.request('GET', url)\n",
    "\n",
    "aggrs_query_url = aggregates_url()\n",
    "researches = query_ibge(aggrs_query_url, http_fn)"
   ]
  },
  {
   "cell_type": "markdown",
   "id": "ee63756c",
   "metadata": {},
   "source": [
    " ### Picking an aggregate\n",
    "\n",
    " IBGE's API needs the exact data aggregate code in order to supply any useful data. Therefore, we need to ask for the list of aggregates and search for the code of the aggregate we want. Luckly, these are grouped by research. In this case, we want the National Household Sampling Research (PNAD)."
   ]
  },
  {
   "cell_type": "code",
   "execution_count": 155,
   "id": "92b14561",
   "metadata": {},
   "outputs": [],
   "source": [
    "format_fn = lambda x: f\"{x['id']}: {x['nome']}\"\n",
    "#list(map(format_fn, researches))"
   ]
  },
  {
   "cell_type": "code",
   "execution_count": 156,
   "id": "52616cbc",
   "metadata": {},
   "outputs": [],
   "source": [
    "pnad_id = 'B5'\n",
    "filter_pnad_fn = lambda x: x['id'] == pnad_id\n",
    "pnad_metadata = next(filter(filter_pnad_fn, researches)) # 'next' gets the first element, in this case\n",
    "#pnad_data"
   ]
  },
  {
   "cell_type": "code",
   "execution_count": 157,
   "id": "1baf2632",
   "metadata": {},
   "outputs": [],
   "source": [
    "filtered_aggr = filter_aggregates(pnad_metadata, 'rendimento domiciliar per capita')\n",
    "format_fn = lambda aggr: f\"{aggr['id']}: {aggr['nome']}\"\n",
    "#list(map(format_fn, filtered_aggr))"
   ]
  },
  {
   "cell_type": "code",
   "execution_count": 158,
   "id": "8502f1ef",
   "metadata": {},
   "outputs": [],
   "source": [
    "income_bounds_aggr = 7438\n",
    "cumm_income_dist_aggr = 7530\n",
    "avg_income_per_class_aggr = 7532"
   ]
  },
  {
   "cell_type": "code",
   "execution_count": 159,
   "id": "d8f750a2",
   "metadata": {},
   "outputs": [],
   "source": [
    "income_bounds_metadata = query_ibge( metadata_url(income_bounds_aggr), http_fn )\n",
    "#income_bounds_metadata['variaveis']"
   ]
  },
  {
   "cell_type": "code",
   "execution_count": 160,
   "id": "a3eb0510",
   "metadata": {},
   "outputs": [],
   "source": [
    "income_boounds_var = '10769'\n",
    "#income_bounds_metadata['classificacoes']"
   ]
  },
  {
   "cell_type": "code",
   "execution_count": 161,
   "id": "acd8e916",
   "metadata": {},
   "outputs": [],
   "source": [
    "income_bounds_classif = income_bounds_metadata['classificacoes'][0]['id']\n",
    "income_bounds_classes = [ str(x['id']) for x in income_bounds_metadata['classificacoes'][0]['categorias'] ]\n",
    "income_bounds_classes_fmt = f'[{\",\".join(income_bounds_classes)}]'\n",
    "income_bounds_classes_fmt = f'{income_bounds_classif}{income_bounds_classes_fmt}'\n",
    "#income_bounds_classes_fmt"
   ]
  },
  {
   "cell_type": "code",
   "execution_count": 162,
   "id": "23065619",
   "metadata": {},
   "outputs": [],
   "source": [
    "var_query_url = variables_url( income_bounds_aggr, [income_boounds_var], [income_bounds_classes_fmt])\n",
    "income_bounds_response = query_ibge(var_query_url, http_fn )\n",
    "#income_bounds_response"
   ]
  },
  {
   "cell_type": "code",
   "execution_count": 163,
   "id": "3b6189e8",
   "metadata": {},
   "outputs": [],
   "source": [
    "income_bounds_results = income_bounds_response[0]['resultados'][1:]\n",
    "income_bounds_serii = map( (lambda x: x['series'][0]['serie']) , income_bounds_results)\n",
    "income_bounds_serii = list(income_bounds_serii)\n",
    "#income_bounds_serii"
   ]
  },
  {
   "cell_type": "code",
   "execution_count": 164,
   "id": "2c275ae5",
   "metadata": {},
   "outputs": [],
   "source": [
    "income_percentiles = [5, 10, 20, 30, 40, 50, 60, 70, 80, 90, 95, 99]\n",
    "income_bound_columns = list(map( (lambda x: f'P{x}'), income_percentiles ))\n",
    "years_queried = list(income_bounds_serii[0].keys())\n",
    "#years_queried"
   ]
  },
  {
   "cell_type": "code",
   "execution_count": 165,
   "id": "12e8be3f",
   "metadata": {},
   "outputs": [
    {
     "data": {
      "text/html": [
       "<div>\n",
       "<style scoped>\n",
       "    .dataframe tbody tr th:only-of-type {\n",
       "        vertical-align: middle;\n",
       "    }\n",
       "\n",
       "    .dataframe tbody tr th {\n",
       "        vertical-align: top;\n",
       "    }\n",
       "\n",
       "    .dataframe thead th {\n",
       "        text-align: right;\n",
       "    }\n",
       "</style>\n",
       "<table border=\"1\" class=\"dataframe\">\n",
       "  <thead>\n",
       "    <tr style=\"text-align: right;\">\n",
       "      <th></th>\n",
       "      <th>P5</th>\n",
       "      <th>P10</th>\n",
       "      <th>P20</th>\n",
       "      <th>P30</th>\n",
       "      <th>P40</th>\n",
       "      <th>P50</th>\n",
       "      <th>P60</th>\n",
       "      <th>P70</th>\n",
       "      <th>P80</th>\n",
       "      <th>P90</th>\n",
       "      <th>P95</th>\n",
       "      <th>P99</th>\n",
       "    </tr>\n",
       "  </thead>\n",
       "  <tbody>\n",
       "    <tr>\n",
       "      <th>2015</th>\n",
       "      <td>123.0</td>\n",
       "      <td>198.0</td>\n",
       "      <td>306.0</td>\n",
       "      <td>411.0</td>\n",
       "      <td>529.0</td>\n",
       "      <td>672.0</td>\n",
       "      <td>814.0</td>\n",
       "      <td>1029.0</td>\n",
       "      <td>1380.0</td>\n",
       "      <td>2177.0</td>\n",
       "      <td>3353.0</td>\n",
       "      <td>7758.0</td>\n",
       "    </tr>\n",
       "    <tr>\n",
       "      <th>2016</th>\n",
       "      <td>114.0</td>\n",
       "      <td>197.0</td>\n",
       "      <td>307.0</td>\n",
       "      <td>433.0</td>\n",
       "      <td>552.0</td>\n",
       "      <td>696.0</td>\n",
       "      <td>875.0</td>\n",
       "      <td>1082.0</td>\n",
       "      <td>1479.0</td>\n",
       "      <td>2382.0</td>\n",
       "      <td>3714.0</td>\n",
       "      <td>8658.0</td>\n",
       "    </tr>\n",
       "    <tr>\n",
       "      <th>2017</th>\n",
       "      <td>102.0</td>\n",
       "      <td>199.0</td>\n",
       "      <td>316.0</td>\n",
       "      <td>451.0</td>\n",
       "      <td>578.0</td>\n",
       "      <td>730.0</td>\n",
       "      <td>933.0</td>\n",
       "      <td>1130.0</td>\n",
       "      <td>1511.0</td>\n",
       "      <td>2453.0</td>\n",
       "      <td>3821.0</td>\n",
       "      <td>9049.0</td>\n",
       "    </tr>\n",
       "    <tr>\n",
       "      <th>2018</th>\n",
       "      <td>103.0</td>\n",
       "      <td>201.0</td>\n",
       "      <td>334.0</td>\n",
       "      <td>473.0</td>\n",
       "      <td>610.0</td>\n",
       "      <td>773.0</td>\n",
       "      <td>967.0</td>\n",
       "      <td>1211.0</td>\n",
       "      <td>1641.0</td>\n",
       "      <td>2625.0</td>\n",
       "      <td>4067.0</td>\n",
       "      <td>9893.0</td>\n",
       "    </tr>\n",
       "    <tr>\n",
       "      <th>2019</th>\n",
       "      <td>107.0</td>\n",
       "      <td>211.0</td>\n",
       "      <td>348.0</td>\n",
       "      <td>498.0</td>\n",
       "      <td>650.0</td>\n",
       "      <td>826.0</td>\n",
       "      <td>1002.0</td>\n",
       "      <td>1282.0</td>\n",
       "      <td>1733.0</td>\n",
       "      <td>2723.0</td>\n",
       "      <td>4209.0</td>\n",
       "      <td>10365.0</td>\n",
       "    </tr>\n",
       "    <tr>\n",
       "      <th>2020</th>\n",
       "      <td>146.0</td>\n",
       "      <td>252.0</td>\n",
       "      <td>396.0</td>\n",
       "      <td>527.0</td>\n",
       "      <td>673.0</td>\n",
       "      <td>836.0</td>\n",
       "      <td>1035.0</td>\n",
       "      <td>1263.0</td>\n",
       "      <td>1682.0</td>\n",
       "      <td>2646.0</td>\n",
       "      <td>4082.0</td>\n",
       "      <td>9832.0</td>\n",
       "    </tr>\n",
       "  </tbody>\n",
       "</table>\n",
       "</div>"
      ],
      "text/plain": [
       "         P5    P10    P20    P30    P40    P50     P60     P70     P80  \\\n",
       "2015  123.0  198.0  306.0  411.0  529.0  672.0   814.0  1029.0  1380.0   \n",
       "2016  114.0  197.0  307.0  433.0  552.0  696.0   875.0  1082.0  1479.0   \n",
       "2017  102.0  199.0  316.0  451.0  578.0  730.0   933.0  1130.0  1511.0   \n",
       "2018  103.0  201.0  334.0  473.0  610.0  773.0   967.0  1211.0  1641.0   \n",
       "2019  107.0  211.0  348.0  498.0  650.0  826.0  1002.0  1282.0  1733.0   \n",
       "2020  146.0  252.0  396.0  527.0  673.0  836.0  1035.0  1263.0  1682.0   \n",
       "\n",
       "         P90     P95      P99  \n",
       "2015  2177.0  3353.0   7758.0  \n",
       "2016  2382.0  3714.0   8658.0  \n",
       "2017  2453.0  3821.0   9049.0  \n",
       "2018  2625.0  4067.0   9893.0  \n",
       "2019  2723.0  4209.0  10365.0  \n",
       "2020  2646.0  4082.0   9832.0  "
      ]
     },
     "execution_count": 165,
     "metadata": {},
     "output_type": "execute_result"
    }
   ],
   "source": [
    "series_to_row_fn = lambda series: list(map(float, series.values())) # Note: the 'int' refers to the integer constructor\n",
    "income_bounds_data = list(map( series_to_row_fn , income_bounds_serii ))\n",
    "income_bounds_data = numpy.matrix(income_bounds_data).transpose()\n",
    "income_bounds_data = pandas.DataFrame( income_bounds_data , index=years_queried, columns=income_bound_columns )\n",
    "income_bounds_data"
   ]
  },
  {
   "cell_type": "markdown",
   "id": "441d59f5",
   "metadata": {},
   "source": [
    "### Cumulative Income Distribution"
   ]
  },
  {
   "cell_type": "code",
   "execution_count": 166,
   "id": "d8f750a2",
   "metadata": {},
   "outputs": [],
   "source": [
    "cumm_income_dist_metadata = query_ibge( metadata_url(cumm_income_dist_aggr), http_fn )\n",
    "#cumm_income_dist_metadata['variaveis']"
   ]
  },
  {
   "cell_type": "code",
   "execution_count": 167,
   "id": "4b61f1c1",
   "metadata": {},
   "outputs": [],
   "source": [
    "cumm_income_dist_var = '10826'\n",
    "#cumm_income_dist_metadata['classificacoes']"
   ]
  },
  {
   "cell_type": "code",
   "execution_count": 168,
   "id": "89edbc26",
   "metadata": {},
   "outputs": [],
   "source": [
    "cumm_income_dist_classif = cumm_income_dist_metadata['classificacoes'][0]['id']\n",
    "cumm_income_dist_classes = cumm_income_dist_metadata['classificacoes'][0]['categorias'][:-1]\n",
    "cumm_income_dist_classes = map( lambda x: str(x['id']), cumm_income_dist_classes )\n",
    "cumm_income_dist_classes_fmt = f\"{cumm_income_dist_classif}[{','.join(cumm_income_dist_classes)}]\"\n",
    "#list(cumm_income_dist_classes)\n",
    "#cumm_income_dist_classes_fmt"
   ]
  },
  {
   "cell_type": "code",
   "execution_count": 169,
   "id": "23065619",
   "metadata": {},
   "outputs": [],
   "source": [
    "var_query_url = variables_url( cumm_income_dist_aggr, [cumm_income_dist_var], [cumm_income_dist_classes_fmt])\n",
    "cumm_income_dist_response = query_ibge(var_query_url, http_fn )"
   ]
  },
  {
   "cell_type": "code",
   "execution_count": 170,
   "id": "30f48190",
   "metadata": {},
   "outputs": [],
   "source": [
    "cumm_income_dist_results = cumm_income_dist_response[0]['resultados']\n",
    "cumm_income_dist_serii = map( lambda x: x['series'][0]['serie'], cumm_income_dist_results )\n",
    "cumm_income_dist_serii = list(cumm_income_dist_serii)"
   ]
  },
  {
   "cell_type": "code",
   "execution_count": 175,
   "id": "95c02d22",
   "metadata": {},
   "outputs": [
    {
     "data": {
      "text/html": [
       "<div>\n",
       "<style scoped>\n",
       "    .dataframe tbody tr th:only-of-type {\n",
       "        vertical-align: middle;\n",
       "    }\n",
       "\n",
       "    .dataframe tbody tr th {\n",
       "        vertical-align: top;\n",
       "    }\n",
       "\n",
       "    .dataframe thead th {\n",
       "        text-align: right;\n",
       "    }\n",
       "</style>\n",
       "<table border=\"1\" class=\"dataframe\">\n",
       "  <thead>\n",
       "    <tr style=\"text-align: right;\">\n",
       "      <th></th>\n",
       "      <th>P5</th>\n",
       "      <th>P10</th>\n",
       "      <th>P20</th>\n",
       "      <th>P30</th>\n",
       "      <th>P40</th>\n",
       "      <th>P50</th>\n",
       "      <th>P60</th>\n",
       "      <th>P70</th>\n",
       "      <th>P80</th>\n",
       "      <th>P90</th>\n",
       "      <th>P95</th>\n",
       "      <th>P99</th>\n",
       "    </tr>\n",
       "  </thead>\n",
       "  <tbody>\n",
       "    <tr>\n",
       "      <th>2015</th>\n",
       "      <td>0.3</td>\n",
       "      <td>1.0</td>\n",
       "      <td>3.4</td>\n",
       "      <td>6.7</td>\n",
       "      <td>11.1</td>\n",
       "      <td>16.6</td>\n",
       "      <td>23.5</td>\n",
       "      <td>32.0</td>\n",
       "      <td>42.9</td>\n",
       "      <td>58.7</td>\n",
       "      <td>71.0</td>\n",
       "      <td>88.7</td>\n",
       "    </tr>\n",
       "    <tr>\n",
       "      <th>2016</th>\n",
       "      <td>0.2</td>\n",
       "      <td>0.9</td>\n",
       "      <td>3.1</td>\n",
       "      <td>6.3</td>\n",
       "      <td>10.5</td>\n",
       "      <td>15.8</td>\n",
       "      <td>22.8</td>\n",
       "      <td>30.9</td>\n",
       "      <td>41.8</td>\n",
       "      <td>57.6</td>\n",
       "      <td>70.1</td>\n",
       "      <td>88.4</td>\n",
       "    </tr>\n",
       "    <tr>\n",
       "      <th>2017</th>\n",
       "      <td>0.2</td>\n",
       "      <td>0.8</td>\n",
       "      <td>3.0</td>\n",
       "      <td>6.2</td>\n",
       "      <td>10.4</td>\n",
       "      <td>15.7</td>\n",
       "      <td>22.7</td>\n",
       "      <td>30.9</td>\n",
       "      <td>41.8</td>\n",
       "      <td>57.5</td>\n",
       "      <td>69.8</td>\n",
       "      <td>88.3</td>\n",
       "    </tr>\n",
       "    <tr>\n",
       "      <th>2018</th>\n",
       "      <td>0.2</td>\n",
       "      <td>0.8</td>\n",
       "      <td>2.9</td>\n",
       "      <td>6.0</td>\n",
       "      <td>10.1</td>\n",
       "      <td>15.4</td>\n",
       "      <td>22.2</td>\n",
       "      <td>30.4</td>\n",
       "      <td>41.2</td>\n",
       "      <td>56.9</td>\n",
       "      <td>69.4</td>\n",
       "      <td>87.8</td>\n",
       "    </tr>\n",
       "    <tr>\n",
       "      <th>2019</th>\n",
       "      <td>0.2</td>\n",
       "      <td>0.8</td>\n",
       "      <td>2.9</td>\n",
       "      <td>6.0</td>\n",
       "      <td>10.1</td>\n",
       "      <td>15.5</td>\n",
       "      <td>22.3</td>\n",
       "      <td>30.6</td>\n",
       "      <td>41.5</td>\n",
       "      <td>57.2</td>\n",
       "      <td>69.4</td>\n",
       "      <td>87.6</td>\n",
       "    </tr>\n",
       "    <tr>\n",
       "      <th>2020</th>\n",
       "      <td>0.2</td>\n",
       "      <td>0.9</td>\n",
       "      <td>3.4</td>\n",
       "      <td>6.7</td>\n",
       "      <td>11.2</td>\n",
       "      <td>16.8</td>\n",
       "      <td>23.8</td>\n",
       "      <td>32.2</td>\n",
       "      <td>43.0</td>\n",
       "      <td>58.4</td>\n",
       "      <td>70.5</td>\n",
       "      <td>88.2</td>\n",
       "    </tr>\n",
       "  </tbody>\n",
       "</table>\n",
       "</div>"
      ],
      "text/plain": [
       "       P5  P10  P20  P30   P40   P50   P60   P70   P80   P90   P95   P99\n",
       "2015  0.3  1.0  3.4  6.7  11.1  16.6  23.5  32.0  42.9  58.7  71.0  88.7\n",
       "2016  0.2  0.9  3.1  6.3  10.5  15.8  22.8  30.9  41.8  57.6  70.1  88.4\n",
       "2017  0.2  0.8  3.0  6.2  10.4  15.7  22.7  30.9  41.8  57.5  69.8  88.3\n",
       "2018  0.2  0.8  2.9  6.0  10.1  15.4  22.2  30.4  41.2  56.9  69.4  87.8\n",
       "2019  0.2  0.8  2.9  6.0  10.1  15.5  22.3  30.6  41.5  57.2  69.4  87.6\n",
       "2020  0.2  0.9  3.4  6.7  11.2  16.8  23.8  32.2  43.0  58.4  70.5  88.2"
      ]
     },
     "execution_count": 175,
     "metadata": {},
     "output_type": "execute_result"
    }
   ],
   "source": [
    "cumm_income_dist_data = list(map(series_to_row_fn, cumm_income_dist_serii))\n",
    "cumm_income_dist_data = numpy.matrix(cumm_income_dist_data).transpose()\n",
    "cumm_income_dist_data = pandas.DataFrame( cumm_income_dist_data , index=years_queried, columns=income_bound_columns )\n",
    "cumm_income_dist_data"
   ]
  },
  {
   "cell_type": "code",
   "execution_count": null,
   "id": "b03ce9d1",
   "metadata": {},
   "outputs": [],
   "source": [
    "income_per_class_metadata = query_ibge( metadata_url(avg_income_per_class_aggr), http_fn )"
   ]
  },
  {
   "cell_type": "code",
   "execution_count": null,
   "id": "fa763e5e-1432-4ac9-846c-aa64eb09b790",
   "metadata": {},
   "outputs": [
    {
     "ename": "NameError",
     "evalue": "name 'income_dist' is not defined",
     "output_type": "error",
     "traceback": [
      "\u001b[0;31m---------------------------------------------------------------------------\u001b[0m",
      "\u001b[0;31mNameError\u001b[0m                                 Traceback (most recent call last)",
      "\u001b[1;32m/home/pedro/Documentos/projeto-ibge/IBGE.ipynb Cell 24'\u001b[0m in \u001b[0;36m<cell line: 3>\u001b[0;34m()\u001b[0m\n\u001b[1;32m      <a href='vscode-notebook-cell:/home/pedro/Documentos/projeto-ibge/IBGE.ipynb#ch0000017?line=0'>1</a>\u001b[0m X \u001b[39m=\u001b[39m income_percentiles\n\u001b[1;32m      <a href='vscode-notebook-cell:/home/pedro/Documentos/projeto-ibge/IBGE.ipynb#ch0000017?line=1'>2</a>\u001b[0m widths \u001b[39m=\u001b[39m numpy\u001b[39m.\u001b[39marray([\u001b[39m-\u001b[39m\u001b[39m5\u001b[39m,  \u001b[39m-\u001b[39m\u001b[39m5\u001b[39m, \u001b[39m-\u001b[39m\u001b[39m10\u001b[39m, \u001b[39m-\u001b[39m\u001b[39m10\u001b[39m, \u001b[39m-\u001b[39m\u001b[39m10\u001b[39m, \u001b[39m-\u001b[39m\u001b[39m10\u001b[39m, \u001b[39m-\u001b[39m\u001b[39m10\u001b[39m, \u001b[39m-\u001b[39m\u001b[39m10\u001b[39m, \u001b[39m-\u001b[39m\u001b[39m10\u001b[39m, \u001b[39m-\u001b[39m \u001b[39m10\u001b[39m,  \u001b[39m-\u001b[39m\u001b[39m5\u001b[39m,  \u001b[39m-\u001b[39m\u001b[39m4\u001b[39m,   \u001b[39m-\u001b[39m\u001b[39m1\u001b[39m])\n\u001b[0;32m----> <a href='vscode-notebook-cell:/home/pedro/Documentos/projeto-ibge/IBGE.ipynb#ch0000017?line=2'>3</a>\u001b[0m Y \u001b[39m=\u001b[39m numpy\u001b[39m.\u001b[39marray(income_dist)\u001b[39m/\u001b[39m(\u001b[39m-\u001b[39mwidths)\n\u001b[1;32m      <a href='vscode-notebook-cell:/home/pedro/Documentos/projeto-ibge/IBGE.ipynb#ch0000017?line=4'>5</a>\u001b[0m fig, ax \u001b[39m=\u001b[39m plot\u001b[39m.\u001b[39msubplots()\n\u001b[1;32m      <a href='vscode-notebook-cell:/home/pedro/Documentos/projeto-ibge/IBGE.ipynb#ch0000017?line=5'>6</a>\u001b[0m ax\u001b[39m.\u001b[39mbar(X, Y, align\u001b[39m=\u001b[39m\u001b[39m'\u001b[39m\u001b[39medge\u001b[39m\u001b[39m'\u001b[39m, width\u001b[39m=\u001b[39mwidths)\n",
      "\u001b[0;31mNameError\u001b[0m: name 'income_dist' is not defined"
     ]
    }
   ],
   "source": [
    "X = income_percentiles\n",
    "widths = numpy.array([-5,  -5, -10, -10, -10, -10, -10, -10, -10, - 10,  -5,  -4,   -1])\n",
    "Y = numpy.array(income_dist)/(-widths)\n",
    "\n",
    "fig, ax = plot.subplots()\n",
    "ax.bar(X, Y, align='edge', width=widths)"
   ]
  }
 ],
 "metadata": {
  "interpreter": {
   "hash": "916dbcbb3f70747c44a77c7bcd40155683ae19c65e1c03b4aa3499c5328201f1"
  },
  "kernelspec": {
   "display_name": "Python 3.8.10 64-bit",
   "language": "python",
   "name": "python3"
  },
  "language_info": {
   "codemirror_mode": {
    "name": "ipython",
    "version": 3
   },
   "file_extension": ".py",
   "mimetype": "text/x-python",
   "name": "python",
   "nbconvert_exporter": "python",
   "pygments_lexer": "ipython3",
   "version": "3.8.10"
  }
 },
 "nbformat": 4,
 "nbformat_minor": 5
}
