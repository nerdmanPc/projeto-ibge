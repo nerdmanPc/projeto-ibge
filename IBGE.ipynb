{
 "cells": [
  {
   "cell_type": "markdown",
   "id": "9ac3c04d",
   "metadata": {},
   "source": [
    "## IBGE Data Analysis Project\n",
    "\n",
    "IBGE is the main source for all kinds os statistical data in Brazil. This repository is an exploration of interesting socioeconomic data as well as concepts like Data visualization, REST API abstraction and Test driven development applied to Data Science."
   ]
  },
  {
   "cell_type": "code",
   "execution_count": 106,
   "id": "d29797c2-3f31-482d-8568-d142844dabe8",
   "metadata": {},
   "outputs": [],
   "source": [
    "import urllib3\n",
    "#import json\n",
    "import matplotlib.pyplot as plot\n",
    "import numpy\n",
    "import pandas\n",
    "from ibge_lib import *\n"
   ]
  },
  {
   "cell_type": "code",
   "execution_count": 107,
   "id": "ad61d0dd",
   "metadata": {},
   "outputs": [],
   "source": [
    "http = urllib3.PoolManager()\n",
    "http_fn = lambda url: http.request('GET', url)\n",
    "\n",
    "aggrs_query_url = aggregates_url()\n",
    "researches = query_ibge(aggrs_query_url, http_fn)"
   ]
  },
  {
   "cell_type": "markdown",
   "id": "ee63756c",
   "metadata": {},
   "source": [
    " ### Picking an aggregate\n",
    "\n",
    " IBGE's API needs the exact data aggregate code in order to supply any useful data. Therefore, we need to ask for the list of aggregates and search for the code of the aggregate we want. Luckly, these are grouped by research. In this case, we want the National Household Sampling Research (PNAD)."
   ]
  },
  {
   "cell_type": "code",
   "execution_count": 108,
   "id": "92b14561",
   "metadata": {},
   "outputs": [],
   "source": [
    "format_fn = lambda x: f\"{x['id']}: {x['nome']}\"\n",
    "#list(map(format_fn, researches))"
   ]
  },
  {
   "cell_type": "code",
   "execution_count": 109,
   "id": "52616cbc",
   "metadata": {},
   "outputs": [],
   "source": [
    "pnad_id = 'B5'\n",
    "filter_pnad_fn = lambda x: x['id'] == pnad_id\n",
    "pnad_metadata = next(filter(filter_pnad_fn, researches)) # 'next' gets the first element, in this case\n",
    "#pnad_data"
   ]
  },
  {
   "cell_type": "code",
   "execution_count": 110,
   "id": "1baf2632",
   "metadata": {},
   "outputs": [],
   "source": [
    "filtered_aggr = filter_aggregates(pnad_metadata, 'rendimento domiciliar per capita')\n",
    "format_fn = lambda aggr: f\"{aggr['id']}: {aggr['nome']}\"\n",
    "#list(map(format_fn, filtered_aggr))"
   ]
  },
  {
   "cell_type": "code",
   "execution_count": 111,
   "id": "8502f1ef",
   "metadata": {},
   "outputs": [],
   "source": [
    "income_upper_bounds_aggr = 7438\n",
    "upper_bounds_metadata = query_ibge( metadata_url(income_upper_bounds_aggr), http_fn )\n",
    "#upper_bounds_metadata"
   ]
  },
  {
   "cell_type": "code",
   "execution_count": 112,
   "id": "acd8e916",
   "metadata": {},
   "outputs": [],
   "source": [
    "upper_boounds_var = '10769'\n",
    "upper_bounds_classif = '1019'\n",
    "uppper_bounds_classes = [ str(x['id']) for x in upper_bounds_metadata['classificacoes'][0]['categorias'] ]\n",
    "uppper_bounds_classes_fmt = f'[{\",\".join(uppper_bounds_classes)}]'\n",
    "#uppper_bounds_classes_fmt"
   ]
  },
  {
   "cell_type": "code",
   "execution_count": 113,
   "id": "23065619",
   "metadata": {},
   "outputs": [],
   "source": [
    "var_query_url = variables_url( income_upper_bounds_aggr, [upper_boounds_var], [f'{upper_bounds_classif}{uppper_bounds_classes_fmt}'])\n",
    "upper_bounds_response = query_ibge(var_query_url, http_fn )\n",
    "#upper_bounds_response"
   ]
  },
  {
   "cell_type": "code",
   "execution_count": 114,
   "id": "3b6189e8",
   "metadata": {},
   "outputs": [],
   "source": [
    "income_upper_bounds_results = upper_bounds_response[0]['resultados'][1:]\n",
    "income_upper_bounds_serii = map( (lambda x: x['series'][0]['serie']) , income_upper_bounds_results)\n",
    "# income_upper_bounds_results\n",
    "income_upper_bounds_serii = list(income_upper_bounds_serii)\n",
    "#income_upper_bounds_series"
   ]
  },
  {
   "cell_type": "code",
   "execution_count": 115,
   "id": "2c275ae5",
   "metadata": {},
   "outputs": [],
   "source": [
    "income_percentiles = [5, 10, 20, 30, 40, 50, 60, 70, 80, 90, 95, 99]\n",
    "bound_columns = list(map( (lambda x: f'P{x}'), income_percentiles ))\n",
    "years_queried = list(income_upper_bounds_serii[0].keys())"
   ]
  },
  {
   "cell_type": "code",
   "execution_count": 122,
   "id": "12e8be3f",
   "metadata": {},
   "outputs": [
    {
     "data": {
      "text/html": [
       "<div>\n",
       "<style scoped>\n",
       "    .dataframe tbody tr th:only-of-type {\n",
       "        vertical-align: middle;\n",
       "    }\n",
       "\n",
       "    .dataframe tbody tr th {\n",
       "        vertical-align: top;\n",
       "    }\n",
       "\n",
       "    .dataframe thead th {\n",
       "        text-align: right;\n",
       "    }\n",
       "</style>\n",
       "<table border=\"1\" class=\"dataframe\">\n",
       "  <thead>\n",
       "    <tr style=\"text-align: right;\">\n",
       "      <th></th>\n",
       "      <th>P5</th>\n",
       "      <th>P10</th>\n",
       "      <th>P20</th>\n",
       "      <th>P30</th>\n",
       "      <th>P40</th>\n",
       "      <th>P50</th>\n",
       "      <th>P60</th>\n",
       "      <th>P70</th>\n",
       "      <th>P80</th>\n",
       "      <th>P90</th>\n",
       "      <th>P95</th>\n",
       "      <th>P99</th>\n",
       "    </tr>\n",
       "  </thead>\n",
       "  <tbody>\n",
       "    <tr>\n",
       "      <th>2015</th>\n",
       "      <td>123</td>\n",
       "      <td>198</td>\n",
       "      <td>306</td>\n",
       "      <td>411</td>\n",
       "      <td>529</td>\n",
       "      <td>672</td>\n",
       "      <td>814</td>\n",
       "      <td>1029</td>\n",
       "      <td>1380</td>\n",
       "      <td>2177</td>\n",
       "      <td>3353</td>\n",
       "      <td>7758</td>\n",
       "    </tr>\n",
       "    <tr>\n",
       "      <th>2016</th>\n",
       "      <td>114</td>\n",
       "      <td>197</td>\n",
       "      <td>307</td>\n",
       "      <td>433</td>\n",
       "      <td>552</td>\n",
       "      <td>696</td>\n",
       "      <td>875</td>\n",
       "      <td>1082</td>\n",
       "      <td>1479</td>\n",
       "      <td>2382</td>\n",
       "      <td>3714</td>\n",
       "      <td>8658</td>\n",
       "    </tr>\n",
       "    <tr>\n",
       "      <th>2017</th>\n",
       "      <td>102</td>\n",
       "      <td>199</td>\n",
       "      <td>316</td>\n",
       "      <td>451</td>\n",
       "      <td>578</td>\n",
       "      <td>730</td>\n",
       "      <td>933</td>\n",
       "      <td>1130</td>\n",
       "      <td>1511</td>\n",
       "      <td>2453</td>\n",
       "      <td>3821</td>\n",
       "      <td>9049</td>\n",
       "    </tr>\n",
       "    <tr>\n",
       "      <th>2018</th>\n",
       "      <td>103</td>\n",
       "      <td>201</td>\n",
       "      <td>334</td>\n",
       "      <td>473</td>\n",
       "      <td>610</td>\n",
       "      <td>773</td>\n",
       "      <td>967</td>\n",
       "      <td>1211</td>\n",
       "      <td>1641</td>\n",
       "      <td>2625</td>\n",
       "      <td>4067</td>\n",
       "      <td>9893</td>\n",
       "    </tr>\n",
       "    <tr>\n",
       "      <th>2019</th>\n",
       "      <td>107</td>\n",
       "      <td>211</td>\n",
       "      <td>348</td>\n",
       "      <td>498</td>\n",
       "      <td>650</td>\n",
       "      <td>826</td>\n",
       "      <td>1002</td>\n",
       "      <td>1282</td>\n",
       "      <td>1733</td>\n",
       "      <td>2723</td>\n",
       "      <td>4209</td>\n",
       "      <td>10365</td>\n",
       "    </tr>\n",
       "    <tr>\n",
       "      <th>2020</th>\n",
       "      <td>146</td>\n",
       "      <td>252</td>\n",
       "      <td>396</td>\n",
       "      <td>527</td>\n",
       "      <td>673</td>\n",
       "      <td>836</td>\n",
       "      <td>1035</td>\n",
       "      <td>1263</td>\n",
       "      <td>1682</td>\n",
       "      <td>2646</td>\n",
       "      <td>4082</td>\n",
       "      <td>9832</td>\n",
       "    </tr>\n",
       "  </tbody>\n",
       "</table>\n",
       "</div>"
      ],
      "text/plain": [
       "       P5  P10  P20  P30  P40  P50   P60   P70   P80   P90   P95    P99\n",
       "2015  123  198  306  411  529  672   814  1029  1380  2177  3353   7758\n",
       "2016  114  197  307  433  552  696   875  1082  1479  2382  3714   8658\n",
       "2017  102  199  316  451  578  730   933  1130  1511  2453  3821   9049\n",
       "2018  103  201  334  473  610  773   967  1211  1641  2625  4067   9893\n",
       "2019  107  211  348  498  650  826  1002  1282  1733  2723  4209  10365\n",
       "2020  146  252  396  527  673  836  1035  1263  1682  2646  4082   9832"
      ]
     },
     "execution_count": 122,
     "metadata": {},
     "output_type": "execute_result"
    }
   ],
   "source": [
    "series_to_row_fn = lambda series: list(map(int, series.values()))\n",
    "upper_bounds_data = list(map( series_to_row_fn , income_upper_bounds_serii ))\n",
    "upper_bounds_data = numpy.matrix(upper_bounds_data).transpose()\n",
    "pandas.DataFrame( upper_bounds_data , index=years_queried, columns=bound_columns)"
   ]
  },
  {
   "cell_type": "code",
   "execution_count": 117,
   "id": "3b656c86",
   "metadata": {},
   "outputs": [],
   "source": [
    "cumm_income_dist_aggr = 7530\n",
    "avg_income_per_class_aggr = 7532"
   ]
  },
  {
   "cell_type": "code",
   "execution_count": 118,
   "id": "b03ce9d1",
   "metadata": {},
   "outputs": [],
   "source": [
    "cumm_dist_metadata = query_ibge( metadata_url(cumm_income_dist_aggr), http_fn )\n",
    "income_per_class_metadata = query_ibge( metadata_url(avg_income_per_class_aggr), http_fn )"
   ]
  },
  {
   "cell_type": "code",
   "execution_count": 119,
   "id": "fa763e5e-1432-4ac9-846c-aa64eb09b790",
   "metadata": {},
   "outputs": [
    {
     "ename": "NameError",
     "evalue": "name 'income_dist' is not defined",
     "output_type": "error",
     "traceback": [
      "\u001b[0;31m---------------------------------------------------------------------------\u001b[0m",
      "\u001b[0;31mNameError\u001b[0m                                 Traceback (most recent call last)",
      "\u001b[1;32m/home/pedro/Documentos/projeto-ibge/IBGE.ipynb Cell 16'\u001b[0m in \u001b[0;36m<cell line: 3>\u001b[0;34m()\u001b[0m\n\u001b[1;32m      <a href='vscode-notebook-cell:/home/pedro/Documentos/projeto-ibge/IBGE.ipynb#ch0000013?line=0'>1</a>\u001b[0m X \u001b[39m=\u001b[39m income_percentiles\n\u001b[1;32m      <a href='vscode-notebook-cell:/home/pedro/Documentos/projeto-ibge/IBGE.ipynb#ch0000013?line=1'>2</a>\u001b[0m widths \u001b[39m=\u001b[39m numpy\u001b[39m.\u001b[39marray([\u001b[39m-\u001b[39m\u001b[39m5\u001b[39m,  \u001b[39m-\u001b[39m\u001b[39m5\u001b[39m, \u001b[39m-\u001b[39m\u001b[39m10\u001b[39m, \u001b[39m-\u001b[39m\u001b[39m10\u001b[39m, \u001b[39m-\u001b[39m\u001b[39m10\u001b[39m, \u001b[39m-\u001b[39m\u001b[39m10\u001b[39m, \u001b[39m-\u001b[39m\u001b[39m10\u001b[39m, \u001b[39m-\u001b[39m\u001b[39m10\u001b[39m, \u001b[39m-\u001b[39m\u001b[39m10\u001b[39m, \u001b[39m-\u001b[39m \u001b[39m10\u001b[39m,  \u001b[39m-\u001b[39m\u001b[39m5\u001b[39m,  \u001b[39m-\u001b[39m\u001b[39m4\u001b[39m,   \u001b[39m-\u001b[39m\u001b[39m1\u001b[39m])\n\u001b[0;32m----> <a href='vscode-notebook-cell:/home/pedro/Documentos/projeto-ibge/IBGE.ipynb#ch0000013?line=2'>3</a>\u001b[0m Y \u001b[39m=\u001b[39m numpy\u001b[39m.\u001b[39marray(income_dist)\u001b[39m/\u001b[39m(\u001b[39m-\u001b[39mwidths)\n\u001b[1;32m      <a href='vscode-notebook-cell:/home/pedro/Documentos/projeto-ibge/IBGE.ipynb#ch0000013?line=4'>5</a>\u001b[0m fig, ax \u001b[39m=\u001b[39m plot\u001b[39m.\u001b[39msubplots()\n\u001b[1;32m      <a href='vscode-notebook-cell:/home/pedro/Documentos/projeto-ibge/IBGE.ipynb#ch0000013?line=5'>6</a>\u001b[0m ax\u001b[39m.\u001b[39mbar(X, Y, align\u001b[39m=\u001b[39m\u001b[39m'\u001b[39m\u001b[39medge\u001b[39m\u001b[39m'\u001b[39m, width\u001b[39m=\u001b[39mwidths)\n",
      "\u001b[0;31mNameError\u001b[0m: name 'income_dist' is not defined"
     ]
    }
   ],
   "source": [
    "X = income_percentiles\n",
    "widths = numpy.array([-5,  -5, -10, -10, -10, -10, -10, -10, -10, - 10,  -5,  -4,   -1])\n",
    "Y = numpy.array(income_dist)/(-widths)\n",
    "\n",
    "fig, ax = plot.subplots()\n",
    "ax.bar(X, Y, align='edge', width=widths)"
   ]
  }
 ],
 "metadata": {
  "kernelspec": {
   "display_name": "Python 3 (ipykernel)",
   "language": "python",
   "name": "python3"
  },
  "language_info": {
   "codemirror_mode": {
    "name": "ipython",
    "version": 3
   },
   "file_extension": ".py",
   "mimetype": "text/x-python",
   "name": "python",
   "nbconvert_exporter": "python",
   "pygments_lexer": "ipython3",
   "version": "3.8.10"
  }
 },
 "nbformat": 4,
 "nbformat_minor": 5
}
