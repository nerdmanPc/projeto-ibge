{
 "cells": [
  {
   "cell_type": "markdown",
   "id": "9ac3c04d",
   "metadata": {},
   "source": [
    "## IBGE Data Analysis Project\n",
    "\n",
    "IBGE is the main source for all kinds os statistical data in Brazil. This repository is an exploration of interesting socioeconomic data as well as concepts like Data visualization, REST API abstraction and Test driven development applied to Data Science."
   ]
  },
  {
   "cell_type": "code",
   "execution_count": 23,
   "id": "d29797c2-3f31-482d-8568-d142844dabe8",
   "metadata": {},
   "outputs": [],
   "source": [
    "import urllib3\n",
    "#import json\n",
    "import matplotlib.pyplot as plot\n",
    "import numpy\n",
    "import pandas\n",
    "from ibge_lib import *\n"
   ]
  },
  {
   "cell_type": "code",
   "execution_count": 24,
   "id": "ad61d0dd",
   "metadata": {},
   "outputs": [],
   "source": [
    "http = urllib3.PoolManager()\n",
    "http_fn = lambda url: http.request('GET', url)\n",
    "\n",
    "aggrs_query_url = aggregates_url()\n",
    "researches = query_ibge(aggrs_query_url, http_fn)"
   ]
  },
  {
   "cell_type": "markdown",
   "id": "ee63756c",
   "metadata": {},
   "source": [
    " ### Picking an aggregate\n",
    "\n",
    " IBGE's API needs the exact data aggregate code in order to supply any useful data. Therefore, we need to ask for the list of aggregates and search for the code of the aggregate we want. Luckly, these are grouped by research. In this case, we want the National Household Sampling Research (PNAD)."
   ]
  },
  {
   "cell_type": "code",
   "execution_count": 25,
   "id": "92b14561",
   "metadata": {},
   "outputs": [],
   "source": [
    "format_fn = lambda x: f\"{x['id']}: {x['nome']}\"\n",
    "#list(map(format_fn, researches))"
   ]
  },
  {
   "cell_type": "code",
   "execution_count": 26,
   "id": "52616cbc",
   "metadata": {},
   "outputs": [],
   "source": [
    "pnad_id = 'B5'\n",
    "filter_pnad_fn = lambda x: x['id'] == pnad_id\n",
    "pnad_data = next(filter(filter_pnad_fn, researches)) # 'next' gets the first element, in this case\n",
    "#pnad_data"
   ]
  },
  {
   "cell_type": "code",
   "execution_count": 27,
   "id": "1baf2632",
   "metadata": {},
   "outputs": [],
   "source": [
    "filtered_aggr = filter_aggregates(pnad_data, 'rendimento domiciliar per capita')\n",
    "format_fn = lambda aggr: f\"{aggr['id']}: {aggr['nome']}\"\n",
    "#list(map(format_fn, filtered_aggr))"
   ]
  },
  {
   "cell_type": "code",
   "execution_count": 28,
   "id": "8502f1ef",
   "metadata": {},
   "outputs": [],
   "source": [
    "income_upper_bounds_aggr = 7438\n",
    "cumm_income_dist_aggr = 7530\n",
    "avg_income_per_class_aggr = 7532"
   ]
  },
  {
   "cell_type": "code",
   "execution_count": 29,
   "id": "51ec11ee",
   "metadata": {},
   "outputs": [],
   "source": [
    "upper_bounds_metadata = query_ibge( metadata_url(income_upper_bounds_aggr), http_fn )\n",
    "cumm_dist_metadata = query_ibge( metadata_url(cumm_income_dist_aggr), http_fn )\n",
    "income_per_class_metadata = query_ibge( metadata_url(avg_income_per_class_aggr), http_fn )"
   ]
  },
  {
   "cell_type": "code",
   "execution_count": 30,
   "id": "b9c38913",
   "metadata": {},
   "outputs": [],
   "source": [
    "#upper_bounds_metadata"
   ]
  },
  {
   "cell_type": "code",
   "execution_count": 31,
   "id": "acd8e916",
   "metadata": {},
   "outputs": [],
   "source": [
    "upper_boounds_var = '10769'\n",
    "upper_bounds_classif = '1019'\n",
    "uppper_bounds_classes = [ str(x['id']) for x in upper_bounds_metadata['classificacoes'][0]['categorias'] ]\n",
    "uppper_bounds_classes_fmt = f'[{\",\".join(uppper_bounds_classes)}]'\n",
    "#uppper_bounds_classes_fmt"
   ]
  },
  {
   "cell_type": "code",
   "execution_count": 35,
   "id": "23065619",
   "metadata": {},
   "outputs": [],
   "source": [
    "var_query_url = variables_url( income_upper_bounds_aggr, [upper_boounds_var], [f'{upper_bounds_classif}{uppper_bounds_classes_fmt}'])\n",
    "upper_bounds_response = query_ibge(var_query_url, http_fn )\n",
    "# upper_bounds_response"
   ]
  },
  {
   "cell_type": "code",
   "execution_count": 41,
   "id": "3b6189e8",
   "metadata": {},
   "outputs": [
    {
     "data": {
      "text/plain": [
       "['2015', '2016', '2017', '2018', '2019', '2020']"
      ]
     },
     "execution_count": 41,
     "metadata": {},
     "output_type": "execute_result"
    }
   ],
   "source": [
    "income_percentiles = [5, 10, 20, 30, 40, 50, 60, 70, 80, 90, 95, 99]\n",
    "income_upper_bounds_results = upper_bounds_response[0]['resultados'][1:]\n",
    "#income_upper_bounds_results\n",
    "years_queried = list(income_upper_bounds_results[0]['series'][0]['serie'].keys())\n",
    "years_queried\n"
   ]
  },
  {
   "cell_type": "code",
   "execution_count": 34,
   "id": "fa763e5e-1432-4ac9-846c-aa64eb09b790",
   "metadata": {},
   "outputs": [
    {
     "ename": "NameError",
     "evalue": "name 'income_dist' is not defined",
     "output_type": "error",
     "traceback": [
      "\u001b[0;31m---------------------------------------------------------------------------\u001b[0m",
      "\u001b[0;31mNameError\u001b[0m                                 Traceback (most recent call last)",
      "\u001b[1;32m/home/pedro/Documentos/projeto-ibge/IBGE.ipynb Cell 14'\u001b[0m in \u001b[0;36m<cell line: 3>\u001b[0;34m()\u001b[0m\n\u001b[1;32m      <a href='vscode-notebook-cell:/home/pedro/Documentos/projeto-ibge/IBGE.ipynb#ch0000013?line=0'>1</a>\u001b[0m X \u001b[39m=\u001b[39m income_percentiles\n\u001b[1;32m      <a href='vscode-notebook-cell:/home/pedro/Documentos/projeto-ibge/IBGE.ipynb#ch0000013?line=1'>2</a>\u001b[0m widths \u001b[39m=\u001b[39m numpy\u001b[39m.\u001b[39marray([\u001b[39m-\u001b[39m\u001b[39m5\u001b[39m,  \u001b[39m-\u001b[39m\u001b[39m5\u001b[39m, \u001b[39m-\u001b[39m\u001b[39m10\u001b[39m, \u001b[39m-\u001b[39m\u001b[39m10\u001b[39m, \u001b[39m-\u001b[39m\u001b[39m10\u001b[39m, \u001b[39m-\u001b[39m\u001b[39m10\u001b[39m, \u001b[39m-\u001b[39m\u001b[39m10\u001b[39m, \u001b[39m-\u001b[39m\u001b[39m10\u001b[39m, \u001b[39m-\u001b[39m\u001b[39m10\u001b[39m, \u001b[39m-\u001b[39m \u001b[39m10\u001b[39m,  \u001b[39m-\u001b[39m\u001b[39m5\u001b[39m,  \u001b[39m-\u001b[39m\u001b[39m4\u001b[39m,   \u001b[39m-\u001b[39m\u001b[39m1\u001b[39m])\n\u001b[0;32m----> <a href='vscode-notebook-cell:/home/pedro/Documentos/projeto-ibge/IBGE.ipynb#ch0000013?line=2'>3</a>\u001b[0m Y \u001b[39m=\u001b[39m numpy\u001b[39m.\u001b[39marray(income_dist)\u001b[39m/\u001b[39m(\u001b[39m-\u001b[39mwidths)\n\u001b[1;32m      <a href='vscode-notebook-cell:/home/pedro/Documentos/projeto-ibge/IBGE.ipynb#ch0000013?line=4'>5</a>\u001b[0m fig, ax \u001b[39m=\u001b[39m plot\u001b[39m.\u001b[39msubplots()\n\u001b[1;32m      <a href='vscode-notebook-cell:/home/pedro/Documentos/projeto-ibge/IBGE.ipynb#ch0000013?line=5'>6</a>\u001b[0m ax\u001b[39m.\u001b[39mbar(X, Y, align\u001b[39m=\u001b[39m\u001b[39m'\u001b[39m\u001b[39medge\u001b[39m\u001b[39m'\u001b[39m, width\u001b[39m=\u001b[39mwidths)\n",
      "\u001b[0;31mNameError\u001b[0m: name 'income_dist' is not defined"
     ]
    }
   ],
   "source": [
    "X = income_percentiles\n",
    "widths = numpy.array([-5,  -5, -10, -10, -10, -10, -10, -10, -10, - 10,  -5,  -4,   -1])\n",
    "Y = numpy.array(income_dist)/(-widths)\n",
    "\n",
    "fig, ax = plot.subplots()\n",
    "ax.bar(X, Y, align='edge', width=widths)"
   ]
  }
 ],
 "metadata": {
  "kernelspec": {
   "display_name": "Python 3 (ipykernel)",
   "language": "python",
   "name": "python3"
  },
  "language_info": {
   "codemirror_mode": {
    "name": "ipython",
    "version": 3
   },
   "file_extension": ".py",
   "mimetype": "text/x-python",
   "name": "python",
   "nbconvert_exporter": "python",
   "pygments_lexer": "ipython3",
   "version": "3.8.10"
  }
 },
 "nbformat": 4,
 "nbformat_minor": 5
}
