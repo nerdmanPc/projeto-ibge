{
 "cells": [
  {
   "cell_type": "markdown",
   "id": "9ac3c04d",
   "metadata": {},
   "source": [
    "## IBGE Data Analysis Project\n",
    "\n",
    "IBGE is the main source for all kinds os statistical data in Brazil. This repository is an exploration of interesting socioeconomic data as well as concepts like Data visualization, REST API abstraction and Test driven development applied to Data Science."
   ]
  },
  {
   "cell_type": "code",
   "execution_count": 1,
   "id": "d29797c2-3f31-482d-8568-d142844dabe8",
   "metadata": {},
   "outputs": [],
   "source": [
    "import urllib3\n",
    "#import json\n",
    "import matplotlib.pyplot as plot\n",
    "import numpy\n",
    "import pandas\n",
    "from ibge_lib import *\n"
   ]
  },
  {
   "cell_type": "code",
   "execution_count": 2,
   "id": "ad61d0dd",
   "metadata": {},
   "outputs": [],
   "source": [
    "http = urllib3.PoolManager()\n",
    "http_fn = lambda url: http.request('GET', url)\n",
    "\n",
    "query_url = aggregates_url()\n",
    "researches = query_ibge(query_url, http_fn)"
   ]
  },
  {
   "cell_type": "markdown",
   "id": "ee63756c",
   "metadata": {},
   "source": [
    " ### Picking an aggregate\n",
    "\n",
    " IBGE's API needs the exact data aggregate code in order to supply any useful data. Therefore, we need to ask for the list of aggregates and search for the code of the aggregate we want. Luckly, these are grouped by research. In this case, we want the National Household Sampling Research (PNAD)."
   ]
  },
  {
   "cell_type": "code",
   "execution_count": 3,
   "id": "92b14561",
   "metadata": {},
   "outputs": [
    {
     "data": {
      "text/plain": [
       "['CL: Cadastro Central de Empresas',\n",
       " 'CA: Censo Agropecuário',\n",
       " 'ME: Censo Comum do Mercosul, Bolívia e Chile',\n",
       " 'CD: Censo Demográfico',\n",
       " 'CM: Contagem da População ',\n",
       " 'DT: Contas de Espécies Ameaçadas ',\n",
       " 'DU: Contas de Extensão dos Ecossistemas',\n",
       " 'C4: Contas Econômicas Ambientais da Água',\n",
       " 'DZ: Contas Econômicas Ambientais de Energia: produtos da biomassa',\n",
       " 'SU: Contas Nacionais Anuais',\n",
       " 'ST: Contas Nacionais Trimestrais',\n",
       " 'DE: Demografia das Empresas e Estatísticas de Empreendedorismo',\n",
       " 'XF: Estimativas de População',\n",
       " 'FP: Fundações Privadas e Associações Sem Fins Lucrativos',\n",
       " 'IU: Indicadores de Desenvolvimento Sustentável',\n",
       " 'IL: Índice de Preços ao Consumidor em Real',\n",
       " 'IR: Índice de Preços ao Produtor',\n",
       " 'IJ: Índice de Reajuste do Salário Mínimo',\n",
       " 'PC: Índice Nacional de Preços ao Consumidor',\n",
       " 'IA: Índice Nacional de Preços ao Consumidor Amplo',\n",
       " 'IQ: Índice Nacional de Preços ao Consumidor Amplo 15',\n",
       " 'IG: Índice Nacional de Preços ao Consumidor Amplo Especial',\n",
       " 'PG: Índice Nacional de Preços ao Consumidor Especial',\n",
       " 'LA: Levantamento Sistemático da Produção Agrícola',\n",
       " 'C2: Objetivos de Desenvolvimento Sustentável',\n",
       " 'AC: Pesquisa Anual da Indústria da Construção',\n",
       " 'PB: Pesquisa Anual de Comércio',\n",
       " 'PY: Pesquisa Anual de Serviços',\n",
       " 'PP: Pesquisa da Pecuária Municipal',\n",
       " 'AM: Pesquisa de Assistência Médico-Sanitária',\n",
       " 'ES: Pesquisa de Estoques',\n",
       " 'IT: Pesquisa de Inovação',\n",
       " 'OF: Pesquisa de Orçamentos Familiares',\n",
       " 'SH: Pesquisa de Serviços de Hospedagem',\n",
       " 'SE: Pesquisa de Serviços de Publicidade e Promoção',\n",
       " 'PT: Pesquisa de Serviços de Tecnologia da Informação',\n",
       " 'RC: Pesquisa Estatísticas do Registro Civil',\n",
       " 'PI: Pesquisa Industrial Anual',\n",
       " 'PK: Pesquisa Industrial Anual - Empresa',\n",
       " 'PJ: Pesquisa Industrial Anual - Produto',\n",
       " 'DG: Pesquisa Industrial Mensal - Dados Gerais',\n",
       " 'PZ: Pesquisa Industrial Mensal - Produção Física',\n",
       " 'XY: Pesquisa Industrial Mensal de Emprego e Salário',\n",
       " 'AB: Pesquisa Mensal de Abate de Animais',\n",
       " 'MC: Pesquisa Mensal de Comércio',\n",
       " 'PE: Pesquisa Mensal de Emprego',\n",
       " 'SC: Pesquisa Mensal de Serviços',\n",
       " 'PL: Pesquisa Mensal do Leite',\n",
       " 'SB: Pesquisa Nacional de Saneamento Básico',\n",
       " 'XN: Pesquisa Nacional de Saúde',\n",
       " 'AA: Pesquisa Nacional de Saúde do Escolar',\n",
       " 'PD: Pesquisa Nacional por Amostra de Domicílios',\n",
       " 'B5: Pesquisa Nacional por Amostra de Domicílios Contínua anual',\n",
       " 'BB: Pesquisa Nacional por Amostra de Domicílios Contínua mensal',\n",
       " 'DD: Pesquisa Nacional por Amostra de Domicílios Contínua trimestral',\n",
       " 'AX: Pesquisa Trimestral do Abate de Animais',\n",
       " 'CQ: Pesquisa Trimestral do Couro',\n",
       " 'LT: Pesquisa Trimestral do Leite',\n",
       " 'PA: Produção Agrícola Municipal',\n",
       " 'VS: Produção da Extração Vegetal e da Silvicultura',\n",
       " 'PO: Produção de Ovos de Galinha',\n",
       " 'IO: Produto Interno Bruto dos Municípios',\n",
       " 'XE: Projeção da População',\n",
       " 'SI: Sistema Nacional de Pesquisa de Custos e Índices da Construção Civil']"
      ]
     },
     "execution_count": 3,
     "metadata": {},
     "output_type": "execute_result"
    }
   ],
   "source": [
    "format_fn = lambda x: f\"{x['id']}: {x['nome']}\"\n",
    "list(map(format_fn, researches))"
   ]
  },
  {
   "cell_type": "code",
   "execution_count": 7,
   "id": "52616cbc",
   "metadata": {},
   "outputs": [],
   "source": [
    "pnad_id = 'B5'\n",
    "filter_pnad_fn = lambda x: x['id'] == pnad_id\n",
    "pnad_data = next(filter(filter_pnad_fn, researches)) # 'next' gets the first element, in this case\n",
    "#pnad_data"
   ]
  },
  {
   "cell_type": "code",
   "execution_count": 8,
   "id": "1baf2632",
   "metadata": {},
   "outputs": [
    {
     "data": {
      "text/plain": [
       "['7530: Distribuição da massa do rendimento mensal real domiciliar per capita, a preços médios do ano, por classes acumuladas de percentual das pessoas em ordem crescente de rendimento domiciliar per capita',\n",
       " '7527: Distribuição da massa do rendimento mensal real domiciliar per capita, a preços médios do ano, por classes simples de percentual das pessoas em ordem crescente de rendimento domiciliar per capita',\n",
       " '6411: Domicílios em que nenhum morador viajou no período de referência dos últimos três meses, por classes de rendimento nominal domiciliar per capita e motivo de nenhum morador ter viajado (2019)',\n",
       " '7229: Domicílios, por classes de rendimento nominal domiciliar per capita e ocorrência de viagem de moradores no período de referência dos últimos três meses',\n",
       " '7435: Índice de Gini do rendimento domiciliar per capita, a preços médios do ano',\n",
       " '7438: Limites superiores das classes de percentual das pessoas em ordem crescente de rendimento domiciliar per capita, a preços médios do ano',\n",
       " '7526: Limites superiores das classes de percentual das pessoas em ordem crescente de rendimento domiciliar per capita, a preços médios do último ano',\n",
       " '7428: Massa do rendimento mensal real domiciliar per capita, a preços médios do ano, por classes simples de percentual das pessoas em ordem crescente de rendimento domiciliar per capita',\n",
       " '7427: Massa do rendimento mensal real domiciliar per capita, a preços médios do último ano, por classes simples de percentual das pessoas em ordem crescente de rendimento domiciliar per capita',\n",
       " '7429: Participação percentual na composição do rendimento médio mensal real domiciliar per capita, a preços médios do ano, por tipo de rendimento',\n",
       " '7561: População residente com rendimento, por classes acumuladas de percentual das pessoas por rendimento domiciliar per capita, a preços médios do ano',\n",
       " '7564: População residente com rendimento, por classes acumuladas de percentual das pessoas por rendimento domiciliar per capita, a preços médios do último ano',\n",
       " '7521: População residente com rendimento, por classes simples de percentual das pessoas por rendimento domiciliar per capita, a preços médios do ano',\n",
       " '7529: População residente com rendimento, por classes simples de percentual das pessoas por rendimento domiciliar per capita, a preços médios do último ano',\n",
       " '7532: Rendimento médio mensal real domiciliar per capita, a preços médios do ano, por classes acumuladas de percentual das pessoas em ordem crescente de rendimento domiciliar per capita',\n",
       " '7531: Rendimento médio mensal real domiciliar per capita, a preços médios do ano, por classes simples de percentual das pessoas em ordem crescente de rendimento domiciliar per capita',\n",
       " '7534: Rendimento médio mensal real domiciliar per capita, a preços médios do último ano, por classes acumuladas de percentual das pessoas em ordem crescente de rendimento domiciliar per capita',\n",
       " '7533: Rendimento médio mensal real domiciliar per capita, a preços médios do último ano, por classes simples de percentual das pessoas em ordem crescente de rendimento domiciliar per capita',\n",
       " '7458: Rendimento médio mensal real domiciliar per capita, a preços médios do último ano, por recebimento de rendimento de programa social e tipo de programa social',\n",
       " '7234: Viagens com pernoite realizadas pelos moradores dos domicílios no período de referência dos últimos três meses, por classes de rendimento nominal domiciliar per capita e quantidade de pernoites',\n",
       " '7253: Viagens por motivo de lazer realizadas pelos moradores dos domicílios no período de referência dos últimos três meses, por classes de rendimento nominal domiciliar per capita e tipo de lazer (2019)',\n",
       " '7252: Viagens por motivo pessoal realizadas pelos moradores dos domicílios no período de referência dos últimos três meses, por classes de rendimento nominal domiciliar per capita e principal motivo pessoal (2019)',\n",
       " '7254: Viagens por motivo profissional realizadas pelos moradores dos domicílios no período de referência dos últimos três meses, por classes de rendimento nominal domiciliar per capita e principal motivo profissional',\n",
       " '7256: Viagens realizadas pelos moradores dos domicílios no período de referência dos últimos três meses, por classes de rendimento nominal domiciliar per capita e principal local de hospedagem (2019)',\n",
       " '7258: Viagens realizadas pelos moradores dos domicílios no período de referência dos últimos três meses, por classes de rendimento nominal domiciliar per capita e principal meio de transporte utilizado',\n",
       " '7251: Viagens realizadas pelos moradores dos domicílios no período de referência dos últimos três meses, por classes de rendimento nominal domiciliar per capita e quantidade de moradores participantes na viagem']"
      ]
     },
     "execution_count": 8,
     "metadata": {},
     "output_type": "execute_result"
    }
   ],
   "source": [
    "filtered_aggr = filter_aggregates(pnad_data, 'rendimento domiciliar per capita')\n",
    "format_fn = lambda aggr: f\"{aggr['id']}: {aggr['nome']}\"\n",
    "list(map(format_fn, filtered_aggr))"
   ]
  },
  {
   "cell_type": "code",
   "execution_count": null,
   "id": "8502f1ef",
   "metadata": {},
   "outputs": [],
   "source": []
  },
  {
   "cell_type": "code",
   "execution_count": null,
   "id": "490f5786-35c5-4587-8a99-91e4d6c16cba",
   "metadata": {},
   "outputs": [],
   "source": [
    "PERCENTILES = [5, 10, 20, 30, 40, 50, 60, 70, 80, 90, 95, 99, 100]\n",
    "LOCATIONS = ['BR']\n",
    "\n",
    "#Boundries query arguments\n",
    "BOUND_AGGR = '7438'\n",
    "BOUND_VAR = ['10769']\n",
    "BOUND_CLASSIF = ['1019[49259,49260,49261,49262,49263,49264,49265,49266,49267,49268,49269,49270]']\n",
    "\n",
    "#Income distribution query arguments\n",
    "DISTRIBUTION_AGGR = '7530'\n",
    "DISTRIBUTION_VAR = ['10826']\n",
    "DISTRIBUTION_CLASSIF = ['1042[49271,49272,49273,49274,49275,49276,49277,49278,49279,49280,49281,49282]']\n"
   ]
  },
  {
   "cell_type": "code",
   "execution_count": null,
   "id": "2214dc2d",
   "metadata": {},
   "outputs": [],
   "source": [
    "income_classes_url = variables_url(aggregate=BOUND_AGGR, variables=BOUND_VAR, locations=LOCATIONS, classifications=BOUND_CLASSIF, periods=['2019'])\n",
    "income_classes = query_ibge(income_classes_url, http_fn)\n",
    "income_classes = [ float(percentile['series'][0]['serie']['2019']) for percentile in income_classes ]\n",
    "\n",
    "cumm_dist_url = variables_url(DISTRIBUTION_AGGR, DISTRIBUTION_VAR, LOCATIONS, DISTRIBUTION_CLASSIF)\n",
    "cumm_dist = query_ibge(cumm_dist_url, http_fn)\n",
    "cumm_dist = [ float(percentile['series'][0]['serie']['2019']) for percentile in cumm_dist ]\n",
    "cumm_dist.append(100.0)\n",
    "\n",
    "income_dist = [cumm_dist[0]]\n",
    "for i in range(1, len(cumm_dist)):\n",
    "    income_dist.append(cumm_dist[i] - cumm_dist[i-1])"
   ]
  },
  {
   "cell_type": "code",
   "execution_count": null,
   "id": "fa763e5e-1432-4ac9-846c-aa64eb09b790",
   "metadata": {},
   "outputs": [],
   "source": [
    "X = numpy.array(PERCENTILES)\n",
    "widths = numpy.array([-5,  -5, -10, -10, -10, -10, -10, -10, -10, - 10,  -5,  -4,   -1])\n",
    "Y = numpy.array(income_dist)/(-widths)\n",
    "\n",
    "fig, ax = plot.subplots()\n",
    "ax.bar(X, Y, align='edge', width=widths)"
   ]
  }
 ],
 "metadata": {
  "kernelspec": {
   "display_name": "Python 3 (ipykernel)",
   "language": "python",
   "name": "python3"
  },
  "language_info": {
   "codemirror_mode": {
    "name": "ipython",
    "version": 3
   },
   "file_extension": ".py",
   "mimetype": "text/x-python",
   "name": "python",
   "nbconvert_exporter": "python",
   "pygments_lexer": "ipython3",
   "version": "3.8.10"
  }
 },
 "nbformat": 4,
 "nbformat_minor": 5
}
