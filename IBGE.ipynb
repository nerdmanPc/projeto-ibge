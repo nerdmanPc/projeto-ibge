{
 "cells": [
  {
   "cell_type": "code",
   "execution_count": 26,
   "id": "d29797c2-3f31-482d-8568-d142844dabe8",
   "metadata": {},
   "outputs": [],
   "source": [
    "import urllib3\n",
    "import json\n",
    "import matplotlib.pyplot as plot\n",
    "import numpy"
   ]
  },
  {
   "cell_type": "code",
   "execution_count": 27,
   "id": "490f5786-35c5-4587-8a99-91e4d6c16cba",
   "metadata": {},
   "outputs": [],
   "source": [
    "\n",
    "PERIODS = '2019'\n",
    "LOCALES = 'N1[all]'\n",
    "PERCENTILES = [5, 10, 20, 30, 40, 50, 60, 70, 80, 90, 95, 99, 100]\n",
    "\n",
    "#Boundries query arguments\n",
    "BOUND_AGGR = '7438'\n",
    "BOUND_VAR = '10769'\n",
    "BOUND_CLASSIF = '1019[49259,49260,49261,49262,49263,49264,49265,49266,49267,49268,49269,49270]'\n",
    "\n",
    "#Income distribution query arguments\n",
    "DISTRIBUTION_AGGR = '7530'\n",
    "DISTRIBUTION_VAR = '10826'\n",
    "DISTRIBUTION_CLASSIF = '1042[49271,49272,49273,49274,49275,49276,49277,49278,49279,49280,49281,49282]'\n",
    "\n",
    "http = urllib3.PoolManager()\n",
    "\n",
    "def query_ibge(aggregate, variables, classification, periods=PERIODS, locales=LOCALES):\n",
    "    query_url = f'https://servicodados.ibge.gov.br/api/v3/agregados/{aggregate}/periodos/{periods}/variaveis/{variables}?localidades={locales}&classificacao={classification}'\n",
    "    response = http.request('GET', query_url)\n",
    "    if response.status != 200:\n",
    "        print(f'ERRO: {response.status}')\n",
    "        raise\n",
    "    response_str = response.data.decode('utf-8')\n",
    "    return json.loads(response_str)[0]['resultados']"
   ]
  },
  {
   "cell_type": "code",
   "execution_count": 28,
   "id": "2214dc2d",
   "metadata": {},
   "outputs": [
    {
     "name": "stdout",
     "output_type": "stream",
     "text": [
      "Percentis: [5, 10, 20, 30, 40, 50, 60, 70, 80, 90, 95, 99, 100]\n",
      "Classes de renda: [107.0, 211.0, 348.0, 498.0, 650.0, 826.0, 1002.0, 1282.0, 1733.0, 2723.0, 4209.0, 10365.0]\n",
      "Distribuição de renda: [0.2, 0.6000000000000001, 2.0999999999999996, 3.1, 4.1, 5.4, 6.800000000000001, 8.3, 10.899999999999999, 15.700000000000003, 12.200000000000003, 18.19999999999999, 12.400000000000006]\n"
     ]
    }
   ],
   "source": [
    "income_classes = query_ibge(BOUND_AGGR, BOUND_VAR, BOUND_CLASSIF)\n",
    "income_classes = [ float(percentile['series'][0]['serie'][PERIODS]) for percentile in income_classes ]\n",
    "\n",
    "cumm_dist = query_ibge(DISTRIBUTION_AGGR, DISTRIBUTION_VAR, DISTRIBUTION_CLASSIF)\n",
    "cumm_dist = [ float(percentile['series'][0]['serie'][PERIODS]) for percentile in cumm_dist ]\n",
    "cumm_dist.append(100.0)\n",
    "\n",
    "income_dist = [cumm_dist[0]]\n",
    "for i in range(1, len(cumm_dist)):\n",
    "    income_dist.append(cumm_dist[i] - cumm_dist[i-1])"
   ]
  },
  {
   "cell_type": "code",
   "execution_count": 31,
   "id": "fa763e5e-1432-4ac9-846c-aa64eb09b790",
   "metadata": {},
   "outputs": [
    {
     "data": {
      "text/plain": [
       "<BarContainer object of 13 artists>"
      ]
     },
     "execution_count": 31,
     "metadata": {},
     "output_type": "execute_result"
    },
    {
     "data": {
      "image/png": "[encoded data removed]",
      "text/plain": [
       "<Figure size 432x288 with 1 Axes>"
      ]
     },
     "metadata": {
      "needs_background": "light"
     },
     "output_type": "display_data"
    }
   ],
   "source": [
    "X = numpy.array(PERCENTILES)\n",
    "widths = numpy.array([-5,  -5, -10, -10, -10, -10, -10, -10, -10, - 10,  -5,  -4,   -1])\n",
    "Y = numpy.array(income_dist)/(-widths)\n",
    "\n",
    "fig, ax = plot.subplots()\n",
    "ax.bar(X, Y, align='edge', width=widths)"
   ]
  }
 ],
 "metadata": {
  "kernelspec": {
   "display_name": "Python 3 (ipykernel)",
   "language": "python",
   "name": "python3"
  },
  "language_info": {
   "codemirror_mode": {
    "name": "ipython",
    "version": 3
   },
   "file_extension": ".py",
   "mimetype": "text/x-python",
   "name": "python",
   "nbconvert_exporter": "python",
   "pygments_lexer": "ipython3",
   "version": "3.8.10"
  }
 },
 "nbformat": 4,
 "nbformat_minor": 5
}
